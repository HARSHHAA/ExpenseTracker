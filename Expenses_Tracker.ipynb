{
 "cells": [
  {
   "cell_type": "code",
   "execution_count": 1,
   "id": "a397a4b6",
   "metadata": {},
   "outputs": [],
   "source": [
    "#Install and import Required Library for the Expenses_Tracker\n"
   ]
  },
  {
   "cell_type": "code",
   "execution_count": null,
   "id": "1b68cc8c",
   "metadata": {},
   "outputs": [],
   "source": [
    "#for installing library\n",
    "pip install pandas # for importing the data\n",
    "pip install numpy # for dealing with numrical data calculations\n",
    "pip install matplotlib # creating charts,plots,2D,3D etc..a"
   ]
  },
  {
   "cell_type": "code",
   "execution_count": 1,
   "id": "272efb93",
   "metadata": {},
   "outputs": [],
   "source": [
    "#import library\n",
    "import pandas as pd\n",
    "import numpy as np\n",
    "import matplotlib.pyplot as plt\n",
    "# For intercating with systen\n",
    "import os"
   ]
  },
  {
   "cell_type": "code",
   "execution_count": 2,
   "id": "bf455b9b",
   "metadata": {},
   "outputs": [
    {
     "data": {
      "text/html": [
       "<div>\n",
       "<style scoped>\n",
       "    .dataframe tbody tr th:only-of-type {\n",
       "        vertical-align: middle;\n",
       "    }\n",
       "\n",
       "    .dataframe tbody tr th {\n",
       "        vertical-align: top;\n",
       "    }\n",
       "\n",
       "    .dataframe thead th {\n",
       "        text-align: right;\n",
       "    }\n",
       "</style>\n",
       "<table border=\"1\" class=\"dataframe\">\n",
       "  <thead>\n",
       "    <tr style=\"text-align: right;\">\n",
       "      <th></th>\n",
       "      <th>Date</th>\n",
       "      <th>Category</th>\n",
       "      <th>Amount</th>\n",
       "      <th>Description</th>\n",
       "    </tr>\n",
       "  </thead>\n",
       "  <tbody>\n",
       "    <tr>\n",
       "      <th>0</th>\n",
       "      <td>10-06-2025</td>\n",
       "      <td>Food</td>\n",
       "      <td>150</td>\n",
       "      <td>Pizza at Dominos</td>\n",
       "    </tr>\n",
       "    <tr>\n",
       "      <th>1</th>\n",
       "      <td>11-06-2025</td>\n",
       "      <td>Transport</td>\n",
       "      <td>50</td>\n",
       "      <td>Rickshaw fare</td>\n",
       "    </tr>\n",
       "    <tr>\n",
       "      <th>2</th>\n",
       "      <td>12-06-2025</td>\n",
       "      <td>Rent</td>\n",
       "      <td>5000</td>\n",
       "      <td>June Rent</td>\n",
       "    </tr>\n",
       "    <tr>\n",
       "      <th>3</th>\n",
       "      <td>12-06-2025</td>\n",
       "      <td>Utilities</td>\n",
       "      <td>200</td>\n",
       "      <td>Electricity Bill</td>\n",
       "    </tr>\n",
       "  </tbody>\n",
       "</table>\n",
       "</div>"
      ],
      "text/plain": [
       "         Date   Category  Amount       Description\n",
       "0  10-06-2025       Food     150  Pizza at Dominos\n",
       "1  11-06-2025  Transport      50     Rickshaw fare\n",
       "2  12-06-2025       Rent    5000         June Rent\n",
       "3  12-06-2025  Utilities     200  Electricity Bill"
      ]
     },
     "execution_count": 2,
     "metadata": {},
     "output_type": "execute_result"
    }
   ],
   "source": [
    "#importing the data\n",
    "data = pd.read_csv(\"expenses.csv\")\n",
    "data.head()"
   ]
  },
  {
   "cell_type": "code",
   "execution_count": 25,
   "id": "3540e1ee",
   "metadata": {},
   "outputs": [],
   "source": [
    "#converting the date foramte from dd-mm-yyyy to yyyy-mm-dd"
   ]
  },
  {
   "cell_type": "code",
   "execution_count": 4,
   "id": "ff38cf56",
   "metadata": {},
   "outputs": [],
   "source": [
    "data['Date']=pd.to_datetime(data['Date'],format = '%d-%m-%Y')\n"
   ]
  },
  {
   "cell_type": "code",
   "execution_count": 5,
   "id": "aba809ba",
   "metadata": {},
   "outputs": [
    {
     "data": {
      "text/html": [
       "<div>\n",
       "<style scoped>\n",
       "    .dataframe tbody tr th:only-of-type {\n",
       "        vertical-align: middle;\n",
       "    }\n",
       "\n",
       "    .dataframe tbody tr th {\n",
       "        vertical-align: top;\n",
       "    }\n",
       "\n",
       "    .dataframe thead th {\n",
       "        text-align: right;\n",
       "    }\n",
       "</style>\n",
       "<table border=\"1\" class=\"dataframe\">\n",
       "  <thead>\n",
       "    <tr style=\"text-align: right;\">\n",
       "      <th></th>\n",
       "      <th>Date</th>\n",
       "      <th>Category</th>\n",
       "      <th>Amount</th>\n",
       "      <th>Description</th>\n",
       "    </tr>\n",
       "  </thead>\n",
       "  <tbody>\n",
       "    <tr>\n",
       "      <th>0</th>\n",
       "      <td>2025-06-10</td>\n",
       "      <td>Food</td>\n",
       "      <td>150</td>\n",
       "      <td>Pizza at Dominos</td>\n",
       "    </tr>\n",
       "    <tr>\n",
       "      <th>1</th>\n",
       "      <td>2025-06-11</td>\n",
       "      <td>Transport</td>\n",
       "      <td>50</td>\n",
       "      <td>Rickshaw fare</td>\n",
       "    </tr>\n",
       "    <tr>\n",
       "      <th>2</th>\n",
       "      <td>2025-06-12</td>\n",
       "      <td>Rent</td>\n",
       "      <td>5000</td>\n",
       "      <td>June Rent</td>\n",
       "    </tr>\n",
       "    <tr>\n",
       "      <th>3</th>\n",
       "      <td>2025-06-12</td>\n",
       "      <td>Utilities</td>\n",
       "      <td>200</td>\n",
       "      <td>Electricity Bill</td>\n",
       "    </tr>\n",
       "  </tbody>\n",
       "</table>\n",
       "</div>"
      ],
      "text/plain": [
       "        Date   Category  Amount       Description\n",
       "0 2025-06-10       Food     150  Pizza at Dominos\n",
       "1 2025-06-11  Transport      50     Rickshaw fare\n",
       "2 2025-06-12       Rent    5000         June Rent\n",
       "3 2025-06-12  Utilities     200  Electricity Bill"
      ]
     },
     "execution_count": 5,
     "metadata": {},
     "output_type": "execute_result"
    }
   ],
   "source": [
    "data"
   ]
  },
  {
   "cell_type": "markdown",
   "id": "256fc6a8",
   "metadata": {},
   "source": [
    "# 1. Total Spending Overview\n",
    "Display the total amount spent overall.\n",
    "Identify the highest and lowest expense entries.\n"
   ]
  },
  {
   "cell_type": "code",
   "execution_count": 6,
   "id": "e98313a0",
   "metadata": {},
   "outputs": [],
   "source": [
    "def total_spending_overview(data):\n",
    "    # Total spent\n",
    "    total_spent = data['Amount'].sum()\n",
    "    print(f\"\\nTotal Amount Spent: ₹{total_spent}\")\n",
    "\n",
    "    # Highest expense\n",
    "    max_expense = data.loc[data['Amount'].idxmax()]\n",
    "    print(f\"Highest Expense: ₹{max_expense['Amount']} on {max_expense['Date']} - {max_expense['Category']} ({max_expense['Description']})\")\n",
    "\n",
    "    # Lowest expense\n",
    "    min_expense = data.loc[data['Amount'].idxmin()]\n",
    "    print(f\"Lowest Expense: ₹{min_expense['Amount']} on {min_expense['Date']} - {min_expense['Category']} ({min_expense['Description']})\")\n"
   ]
  },
  {
   "cell_type": "code",
   "execution_count": 7,
   "id": "31fa32ff",
   "metadata": {},
   "outputs": [
    {
     "name": "stdout",
     "output_type": "stream",
     "text": [
      "\n",
      "Total Amount Spent: ₹5400\n",
      "Highest Expense: ₹5000 on 2025-06-12 00:00:00 - Rent (June Rent)\n",
      "Lowest Expense: ₹50 on 2025-06-11 00:00:00 - Transport (Rickshaw fare)\n",
      "None\n"
     ]
    }
   ],
   "source": [
    "total_spending_summary=total_spending_overview(data)\n",
    "print(total_spending_summary)"
   ]
  },
  {
   "cell_type": "markdown",
   "id": "81f2e92b",
   "metadata": {},
   "source": [
    "# 2. Category-wise Analysis\n",
    "·        Group expenses by Category and show:\n",
    "·         Total amount spent per category\n",
    "·         Count of transactions per category\n",
    "·         Percentage of total spent in each category (rounded to 2 decimal places)\n"
   ]
  },
  {
   "cell_type": "code",
   "execution_count": 8,
   "id": "ecab8b8b",
   "metadata": {},
   "outputs": [],
   "source": [
    "def category_wise(data):\n",
    "    grouped = data.groupby('category')['Amount'].agg(['sum','count'])\n",
    "    \n",
    "    #calculate percentage\n",
    "    total_spent = data['Amount'].sum()\n",
    "    grouped['percentage'] = (grouped['sum']/total_spent)*100\n",
    "    grouped['percentage'] = grouped['percentage'].rount(2)"
   ]
  },
  {
   "cell_type": "code",
   "execution_count": 9,
   "id": "812f8fe6",
   "metadata": {},
   "outputs": [],
   "source": [
    "def category_analysis(data):\n",
    "    # Group by category\n",
    "    grouped = data.groupby(\"Category\")[\"Amount\"].agg([\"sum\", \"count\"])\n",
    "\n",
    "    # Calculate percentage\n",
    "    total_spent = data[\"Amount\"].sum()\n",
    "    grouped[\"percentage\"] = (grouped[\"sum\"] / total_spent) * 100\n",
    "    grouped[\"percentage\"] = grouped[\"percentage\"].round(2)\n",
    "\n",
    "    # Display results\n",
    "    print(\"Category-wise Analysis\")\n",
    "    print(grouped)"
   ]
  },
  {
   "cell_type": "code",
   "execution_count": 10,
   "id": "e3e117c6",
   "metadata": {},
   "outputs": [
    {
     "name": "stdout",
     "output_type": "stream",
     "text": [
      "Category-wise Analysis\n",
      "            sum  count  percentage\n",
      "Category                          \n",
      "Food        150      1        2.78\n",
      "Rent       5000      1       92.59\n",
      "Transport    50      1        0.93\n",
      "Utilities   200      1        3.70\n"
     ]
    }
   ],
   "source": [
    "category_analysis(data)"
   ]
  },
  {
   "cell_type": "markdown",
   "id": "71af79b4",
   "metadata": {},
   "source": [
    "# 3.% of total spending by each category."
   ]
  },
  {
   "cell_type": "code",
   "execution_count": 11,
   "id": "5d850327",
   "metadata": {},
   "outputs": [],
   "source": [
    "def plot_expense_pie_chart(data):\n",
    "    # Group by category and sum the amounts\n",
    "    category_sums = data.groupby(\"Category\")[\"Amount\"].sum()\n",
    "\n",
    "    # Define color palette (optional: pick any)\n",
    "    colors = plt.cm.Paired(range(len(category_sums)))\n",
    "\n",
    "    # Plot pie chart\n",
    "    plt.figure(figsize=(6,6))\n",
    "    wedges, texts, autotexts = plt.pie(\n",
    "        category_sums,\n",
    "        labels=category_sums.index,     # This shows the category names on the chart\n",
    "        autopct='%1.1f%%',\n",
    "        colors=colors,\n",
    "        startangle=140\n",
    "    )\n",
    "\n",
    "    # Title\n",
    "    plt.title(\"Expense Breakdown by Category\")\n",
    "\n",
    "    # Legend (to show color-code if labels overlap)\n",
    "    plt.legend(wedges, category_sums.index, title=\"Categories\", loc=\"center left\", bbox_to_anchor=(1, 0, 0.5, 1))\n",
    "\n",
    "    # Make it a perfect circle\n",
    "    plt.axis('equal')\n",
    "\n",
    "    # Show chart\n",
    "    plt.tight_layout()\n",
    "    plt.show()\n"
   ]
  },
  {
   "cell_type": "code",
   "execution_count": 12,
   "id": "a2c45e9c",
   "metadata": {},
   "outputs": [
    {
     "data": {
      "image/png": "[encoded data removed]",
      "text/plain": [
       "<Figure size 600x600 with 1 Axes>"
      ]
     },
     "metadata": {},
     "output_type": "display_data"
    }
   ],
   "source": [
    "plot_expense_pie_chart(data)"
   ]
  },
  {
   "cell_type": "markdown",
   "id": "0e02f443",
   "metadata": {},
   "source": [
    "# 4.Adding support to filter expenses by date range.\n"
   ]
  },
  {
   "cell_type": "code",
   "execution_count": 30,
   "id": "d1a9aec0",
   "metadata": {},
   "outputs": [],
   "source": [
    "def filter_expenses_by_date_range(data):\n",
    "    print(\"Filter Expenses by Date Range\")\n",
    "    start_date = input(\"Enter start date (YYYY-MM-DD): \")\n",
    "    end_date = input(\"Enter end date (YYYY-MM-DD): \")\n",
    "\n",
    "    # Convert to datetime\n",
    "    data['Date'] = pd.to_datetime(data['Date'])\n",
    "\n",
    "    # Filter\n",
    "    filtered_data = data[(data['Date'] >= start_date) & (data['Date'] <= end_date)]\n",
    "\n",
    "    if filtered_data.empty:\n",
    "        print(\"No expenses found in this date range.\")\n",
    "    else:\n",
    "        print(f\"\\nFiltered {len(filtered_data)} records:\")\n",
    "        print(filtered_data)\n",
    "\n",
    "    return filtered_data\n"
   ]
  },
  {
   "cell_type": "code",
   "execution_count": 31,
   "id": "82319233",
   "metadata": {},
   "outputs": [
    {
     "name": "stdout",
     "output_type": "stream",
     "text": [
      "Filter Expenses by Date Range\n",
      "Enter start date (YYYY-MM-DD): 2025-06-18\n",
      "Enter end date (YYYY-MM-DD): 2025-06-19\n",
      "No expenses found in this date range.\n"
     ]
    },
    {
     "data": {
      "text/html": [
       "<div>\n",
       "<style scoped>\n",
       "    .dataframe tbody tr th:only-of-type {\n",
       "        vertical-align: middle;\n",
       "    }\n",
       "\n",
       "    .dataframe tbody tr th {\n",
       "        vertical-align: top;\n",
       "    }\n",
       "\n",
       "    .dataframe thead th {\n",
       "        text-align: right;\n",
       "    }\n",
       "</style>\n",
       "<table border=\"1\" class=\"dataframe\">\n",
       "  <thead>\n",
       "    <tr style=\"text-align: right;\">\n",
       "      <th></th>\n",
       "      <th>Date</th>\n",
       "      <th>Category</th>\n",
       "      <th>Amount</th>\n",
       "      <th>Description</th>\n",
       "    </tr>\n",
       "  </thead>\n",
       "  <tbody>\n",
       "  </tbody>\n",
       "</table>\n",
       "</div>"
      ],
      "text/plain": [
       "Empty DataFrame\n",
       "Columns: [Date, Category, Amount, Description]\n",
       "Index: []"
      ]
     },
     "execution_count": 31,
     "metadata": {},
     "output_type": "execute_result"
    }
   ],
   "source": [
    "filter_expenses_by_date_range(data)"
   ]
  },
  {
   "cell_type": "markdown",
   "id": "06a2aeb3",
   "metadata": {},
   "source": [
    "# 5.user can input to the existing file"
   ]
  },
  {
   "cell_type": "code",
   "execution_count": 17,
   "id": "c473f5c6",
   "metadata": {},
   "outputs": [],
   "source": [
    "def add_new_expense(data, filename=\"expenses.csv\"):\n",
    "    print(\"Add a New Expense\")\n",
    "    date_input = input(\"Enter date (YYYY-MM-DD): \")\n",
    "    date = pd.to_datetime(date_input)  # ✅ Convert to datetime\n",
    "    category = input(\"Enter category: \")\n",
    "    amount = float(input(\"Enter amount: \"))\n",
    "    description = input(\"Enter description: \")\n",
    "\n",
    "    new_entry = pd.DataFrame([[date, category, amount, description]], columns=data.columns)\n",
    "    updated_data = pd.concat([data, new_entry], ignore_index=True)\n",
    "    updated_data.to_csv(filename, index=False)\n",
    "\n",
    "    print(\"New expense added successfully.\")\n",
    "    return updated_data"
   ]
  },
  {
   "cell_type": "code",
   "execution_count": 18,
   "id": "8167ac83",
   "metadata": {},
   "outputs": [
    {
     "name": "stdout",
     "output_type": "stream",
     "text": [
      "Add a New Expense\n",
      "Enter date (YYYY-MM-DD): 2025-06-14\n",
      "Enter category: Mobile\n",
      "Enter amount: 250\n",
      "Enter description: monthly currency bill\n",
      "New expense added successfully.\n"
     ]
    },
    {
     "data": {
      "text/html": [
       "<div>\n",
       "<style scoped>\n",
       "    .dataframe tbody tr th:only-of-type {\n",
       "        vertical-align: middle;\n",
       "    }\n",
       "\n",
       "    .dataframe tbody tr th {\n",
       "        vertical-align: top;\n",
       "    }\n",
       "\n",
       "    .dataframe thead th {\n",
       "        text-align: right;\n",
       "    }\n",
       "</style>\n",
       "<table border=\"1\" class=\"dataframe\">\n",
       "  <thead>\n",
       "    <tr style=\"text-align: right;\">\n",
       "      <th></th>\n",
       "      <th>Date</th>\n",
       "      <th>Category</th>\n",
       "      <th>Amount</th>\n",
       "      <th>Description</th>\n",
       "    </tr>\n",
       "  </thead>\n",
       "  <tbody>\n",
       "    <tr>\n",
       "      <th>0</th>\n",
       "      <td>2025-06-10</td>\n",
       "      <td>Food</td>\n",
       "      <td>150.0</td>\n",
       "      <td>Pizza at Dominos</td>\n",
       "    </tr>\n",
       "    <tr>\n",
       "      <th>1</th>\n",
       "      <td>2025-06-11</td>\n",
       "      <td>Transport</td>\n",
       "      <td>50.0</td>\n",
       "      <td>Rickshaw fare</td>\n",
       "    </tr>\n",
       "    <tr>\n",
       "      <th>2</th>\n",
       "      <td>2025-06-12</td>\n",
       "      <td>Rent</td>\n",
       "      <td>5000.0</td>\n",
       "      <td>June Rent</td>\n",
       "    </tr>\n",
       "    <tr>\n",
       "      <th>3</th>\n",
       "      <td>2025-06-12</td>\n",
       "      <td>Utilities</td>\n",
       "      <td>200.0</td>\n",
       "      <td>Electricity Bill</td>\n",
       "    </tr>\n",
       "    <tr>\n",
       "      <th>4</th>\n",
       "      <td>2025-06-14</td>\n",
       "      <td>Mobile</td>\n",
       "      <td>250.0</td>\n",
       "      <td>monthly currency bill</td>\n",
       "    </tr>\n",
       "  </tbody>\n",
       "</table>\n",
       "</div>"
      ],
      "text/plain": [
       "        Date   Category  Amount            Description\n",
       "0 2025-06-10       Food   150.0       Pizza at Dominos\n",
       "1 2025-06-11  Transport    50.0          Rickshaw fare\n",
       "2 2025-06-12       Rent  5000.0              June Rent\n",
       "3 2025-06-12  Utilities   200.0       Electricity Bill\n",
       "4 2025-06-14     Mobile   250.0  monthly currency bill"
      ]
     },
     "execution_count": 18,
     "metadata": {},
     "output_type": "execute_result"
    }
   ],
   "source": [
    "add_new_expense(data, filename=\"expenses.csv\")"
   ]
  },
  {
   "cell_type": "markdown",
   "id": "cdb3413b",
   "metadata": {},
   "source": [
    "# 6.Summary report"
   ]
  },
  {
   "cell_type": "code",
   "execution_count": 21,
   "id": "dd31af48",
   "metadata": {},
   "outputs": [],
   "source": [
    "def export_summary_report(data, filename=\"summary_report.csv\"):\n",
    "    grouped = data.groupby(\"Category\")[\"Amount\"].agg([\"sum\", \"count\"])\n",
    "    total_spent = data[\"Amount\"].sum()\n",
    "    grouped[\"percentage\"] = (grouped[\"sum\"] / total_spent) * 100\n",
    "    grouped[\"percentage\"] = grouped[\"percentage\"].round(2)\n",
    "\n",
    "    grouped.to_csv(filename)\n",
    "    print(f\"Summary report exported to {filename}.\")\n"
   ]
  },
  {
   "cell_type": "code",
   "execution_count": 24,
   "id": "92b437d6",
   "metadata": {},
   "outputs": [
    {
     "name": "stdout",
     "output_type": "stream",
     "text": [
      "Summary report exported to summary_report.csv.\n"
     ]
    }
   ],
   "source": [
    "export_summary_report(data)\n"
   ]
  }
 ],
 "metadata": {
  "kernelspec": {
   "display_name": "Python 3 (ipykernel)",
   "language": "python",
   "name": "python3"
  },
  "language_info": {
   "codemirror_mode": {
    "name": "ipython",
    "version": 3
   },
   "file_extension": ".py",
   "mimetype": "text/x-python",
   "name": "python",
   "nbconvert_exporter": "python",
   "pygments_lexer": "ipython3",
   "version": "3.9.13"
  }
 },
 "nbformat": 4,
 "nbformat_minor": 5
}
